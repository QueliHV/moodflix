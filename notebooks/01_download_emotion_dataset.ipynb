{
 "cells": [
  {
   "cell_type": "markdown",
   "id": "40633afd",
   "metadata": {},
   "source": [
    "## 1. Instalar dependências (se ainda não instalou no venv)"
   ]
  },
  {
   "cell_type": "code",
   "execution_count": 4,
   "id": "b3e8bcc8",
   "metadata": {},
   "outputs": [
    {
     "name": "stdout",
     "output_type": "stream",
     "text": [
      "Requirement already satisfied: ipykernel in /Users/quelihesper/Portifolio-Python/moodflix/.venv/lib/python3.13/site-packages (6.30.1)\n",
      "Requirement already satisfied: appnope>=0.1.2 in /Users/quelihesper/Portifolio-Python/moodflix/.venv/lib/python3.13/site-packages (from ipykernel) (0.1.4)\n",
      "Requirement already satisfied: comm>=0.1.1 in /Users/quelihesper/Portifolio-Python/moodflix/.venv/lib/python3.13/site-packages (from ipykernel) (0.2.3)\n",
      "Requirement already satisfied: debugpy>=1.6.5 in /Users/quelihesper/Portifolio-Python/moodflix/.venv/lib/python3.13/site-packages (from ipykernel) (1.8.16)\n",
      "Requirement already satisfied: ipython>=7.23.1 in /Users/quelihesper/Portifolio-Python/moodflix/.venv/lib/python3.13/site-packages (from ipykernel) (9.5.0)\n",
      "Requirement already satisfied: jupyter-client>=8.0.0 in /Users/quelihesper/Portifolio-Python/moodflix/.venv/lib/python3.13/site-packages (from ipykernel) (8.6.3)\n",
      "Requirement already satisfied: jupyter-core!=5.0.*,>=4.12 in /Users/quelihesper/Portifolio-Python/moodflix/.venv/lib/python3.13/site-packages (from ipykernel) (5.8.1)\n",
      "Requirement already satisfied: matplotlib-inline>=0.1 in /Users/quelihesper/Portifolio-Python/moodflix/.venv/lib/python3.13/site-packages (from ipykernel) (0.1.7)\n",
      "Requirement already satisfied: nest-asyncio>=1.4 in /Users/quelihesper/Portifolio-Python/moodflix/.venv/lib/python3.13/site-packages (from ipykernel) (1.6.0)\n",
      "Requirement already satisfied: packaging>=22 in /Users/quelihesper/Portifolio-Python/moodflix/.venv/lib/python3.13/site-packages (from ipykernel) (25.0)\n",
      "Requirement already satisfied: psutil>=5.7 in /Users/quelihesper/Portifolio-Python/moodflix/.venv/lib/python3.13/site-packages (from ipykernel) (7.0.0)\n",
      "Requirement already satisfied: pyzmq>=25 in /Users/quelihesper/Portifolio-Python/moodflix/.venv/lib/python3.13/site-packages (from ipykernel) (27.0.2)\n",
      "Requirement already satisfied: tornado>=6.2 in /Users/quelihesper/Portifolio-Python/moodflix/.venv/lib/python3.13/site-packages (from ipykernel) (6.5.2)\n",
      "Requirement already satisfied: traitlets>=5.4.0 in /Users/quelihesper/Portifolio-Python/moodflix/.venv/lib/python3.13/site-packages (from ipykernel) (5.14.3)\n",
      "Requirement already satisfied: decorator in /Users/quelihesper/Portifolio-Python/moodflix/.venv/lib/python3.13/site-packages (from ipython>=7.23.1->ipykernel) (5.2.1)\n",
      "Requirement already satisfied: ipython-pygments-lexers in /Users/quelihesper/Portifolio-Python/moodflix/.venv/lib/python3.13/site-packages (from ipython>=7.23.1->ipykernel) (1.1.1)\n",
      "Requirement already satisfied: jedi>=0.16 in /Users/quelihesper/Portifolio-Python/moodflix/.venv/lib/python3.13/site-packages (from ipython>=7.23.1->ipykernel) (0.19.2)\n",
      "Requirement already satisfied: pexpect>4.3 in /Users/quelihesper/Portifolio-Python/moodflix/.venv/lib/python3.13/site-packages (from ipython>=7.23.1->ipykernel) (4.9.0)\n",
      "Requirement already satisfied: prompt_toolkit<3.1.0,>=3.0.41 in /Users/quelihesper/Portifolio-Python/moodflix/.venv/lib/python3.13/site-packages (from ipython>=7.23.1->ipykernel) (3.0.52)\n",
      "Requirement already satisfied: pygments>=2.4.0 in /Users/quelihesper/Portifolio-Python/moodflix/.venv/lib/python3.13/site-packages (from ipython>=7.23.1->ipykernel) (2.19.2)\n",
      "Requirement already satisfied: stack_data in /Users/quelihesper/Portifolio-Python/moodflix/.venv/lib/python3.13/site-packages (from ipython>=7.23.1->ipykernel) (0.6.3)\n",
      "Requirement already satisfied: python-dateutil>=2.8.2 in /Users/quelihesper/Portifolio-Python/moodflix/.venv/lib/python3.13/site-packages (from jupyter-client>=8.0.0->ipykernel) (2.9.0.post0)\n",
      "Requirement already satisfied: platformdirs>=2.5 in /Users/quelihesper/Portifolio-Python/moodflix/.venv/lib/python3.13/site-packages (from jupyter-core!=5.0.*,>=4.12->ipykernel) (4.4.0)\n",
      "Requirement already satisfied: parso<0.9.0,>=0.8.4 in /Users/quelihesper/Portifolio-Python/moodflix/.venv/lib/python3.13/site-packages (from jedi>=0.16->ipython>=7.23.1->ipykernel) (0.8.5)\n",
      "Requirement already satisfied: ptyprocess>=0.5 in /Users/quelihesper/Portifolio-Python/moodflix/.venv/lib/python3.13/site-packages (from pexpect>4.3->ipython>=7.23.1->ipykernel) (0.7.0)\n",
      "Requirement already satisfied: wcwidth in /Users/quelihesper/Portifolio-Python/moodflix/.venv/lib/python3.13/site-packages (from prompt_toolkit<3.1.0,>=3.0.41->ipython>=7.23.1->ipykernel) (0.2.13)\n",
      "Requirement already satisfied: six>=1.5 in /Users/quelihesper/Portifolio-Python/moodflix/.venv/lib/python3.13/site-packages (from python-dateutil>=2.8.2->jupyter-client>=8.0.0->ipykernel) (1.17.0)\n",
      "Requirement already satisfied: executing>=1.2.0 in /Users/quelihesper/Portifolio-Python/moodflix/.venv/lib/python3.13/site-packages (from stack_data->ipython>=7.23.1->ipykernel) (2.2.0)\n",
      "Requirement already satisfied: asttokens>=2.1.0 in /Users/quelihesper/Portifolio-Python/moodflix/.venv/lib/python3.13/site-packages (from stack_data->ipython>=7.23.1->ipykernel) (3.0.0)\n",
      "Requirement already satisfied: pure-eval in /Users/quelihesper/Portifolio-Python/moodflix/.venv/lib/python3.13/site-packages (from stack_data->ipython>=7.23.1->ipykernel) (0.2.3)\n",
      "\n",
      "\u001b[1m[\u001b[0m\u001b[34;49mnotice\u001b[0m\u001b[1;39;49m]\u001b[0m\u001b[39;49m A new release of pip is available: \u001b[0m\u001b[31;49m25.0\u001b[0m\u001b[39;49m -> \u001b[0m\u001b[32;49m25.2\u001b[0m\n",
      "\u001b[1m[\u001b[0m\u001b[34;49mnotice\u001b[0m\u001b[1;39;49m]\u001b[0m\u001b[39;49m To update, run: \u001b[0m\u001b[32;49mpip install --upgrade pip\u001b[0m\n",
      "Note: you may need to restart the kernel to use updated packages.\n",
      "Installed kernelspec moodflix in /Users/quelihesper/Library/Jupyter/kernels/moodflix\n"
     ]
    }
   ],
   "source": [
    "%pip install ipykernel\n",
    "!python -m ipykernel install --user --name=moodflix --display-name \"Python (.venv moodflix)\""
   ]
  },
  {
   "cell_type": "code",
   "execution_count": 5,
   "id": "c30a9444",
   "metadata": {},
   "outputs": [
    {
     "name": "stdout",
     "output_type": "stream",
     "text": [
      "Requirement already satisfied: kaggle in /Users/quelihesper/Portifolio-Python/moodflix/.venv/lib/python3.13/site-packages (1.7.4.5)\n",
      "Requirement already satisfied: pandas in /Users/quelihesper/Portifolio-Python/moodflix/.venv/lib/python3.13/site-packages (2.3.2)\n",
      "Requirement already satisfied: bleach in /Users/quelihesper/Portifolio-Python/moodflix/.venv/lib/python3.13/site-packages (from kaggle) (6.2.0)\n",
      "Requirement already satisfied: certifi>=14.05.14 in /Users/quelihesper/Portifolio-Python/moodflix/.venv/lib/python3.13/site-packages (from kaggle) (2025.8.3)\n",
      "Requirement already satisfied: charset-normalizer in /Users/quelihesper/Portifolio-Python/moodflix/.venv/lib/python3.13/site-packages (from kaggle) (3.4.3)\n",
      "Requirement already satisfied: idna in /Users/quelihesper/Portifolio-Python/moodflix/.venv/lib/python3.13/site-packages (from kaggle) (3.10)\n",
      "Requirement already satisfied: protobuf in /Users/quelihesper/Portifolio-Python/moodflix/.venv/lib/python3.13/site-packages (from kaggle) (6.32.0)\n",
      "Requirement already satisfied: python-dateutil>=2.5.3 in /Users/quelihesper/Portifolio-Python/moodflix/.venv/lib/python3.13/site-packages (from kaggle) (2.9.0.post0)\n",
      "Requirement already satisfied: python-slugify in /Users/quelihesper/Portifolio-Python/moodflix/.venv/lib/python3.13/site-packages (from kaggle) (8.0.4)\n",
      "Requirement already satisfied: requests in /Users/quelihesper/Portifolio-Python/moodflix/.venv/lib/python3.13/site-packages (from kaggle) (2.32.5)\n",
      "Requirement already satisfied: setuptools>=21.0.0 in /Users/quelihesper/Portifolio-Python/moodflix/.venv/lib/python3.13/site-packages (from kaggle) (80.9.0)\n",
      "Requirement already satisfied: six>=1.10 in /Users/quelihesper/Portifolio-Python/moodflix/.venv/lib/python3.13/site-packages (from kaggle) (1.17.0)\n",
      "Requirement already satisfied: text-unidecode in /Users/quelihesper/Portifolio-Python/moodflix/.venv/lib/python3.13/site-packages (from kaggle) (1.3)\n",
      "Requirement already satisfied: tqdm in /Users/quelihesper/Portifolio-Python/moodflix/.venv/lib/python3.13/site-packages (from kaggle) (4.67.1)\n",
      "Requirement already satisfied: urllib3>=1.15.1 in /Users/quelihesper/Portifolio-Python/moodflix/.venv/lib/python3.13/site-packages (from kaggle) (2.5.0)\n",
      "Requirement already satisfied: webencodings in /Users/quelihesper/Portifolio-Python/moodflix/.venv/lib/python3.13/site-packages (from kaggle) (0.5.1)\n",
      "Requirement already satisfied: numpy>=1.26.0 in /Users/quelihesper/Portifolio-Python/moodflix/.venv/lib/python3.13/site-packages (from pandas) (2.3.2)\n",
      "Requirement already satisfied: pytz>=2020.1 in /Users/quelihesper/Portifolio-Python/moodflix/.venv/lib/python3.13/site-packages (from pandas) (2025.2)\n",
      "Requirement already satisfied: tzdata>=2022.7 in /Users/quelihesper/Portifolio-Python/moodflix/.venv/lib/python3.13/site-packages (from pandas) (2025.2)\n",
      "\n",
      "\u001b[1m[\u001b[0m\u001b[34;49mnotice\u001b[0m\u001b[1;39;49m]\u001b[0m\u001b[39;49m A new release of pip is available: \u001b[0m\u001b[31;49m25.0\u001b[0m\u001b[39;49m -> \u001b[0m\u001b[32;49m25.2\u001b[0m\n",
      "\u001b[1m[\u001b[0m\u001b[34;49mnotice\u001b[0m\u001b[1;39;49m]\u001b[0m\u001b[39;49m To update, run: \u001b[0m\u001b[32;49mpip install --upgrade pip\u001b[0m\n",
      "Note: you may need to restart the kernel to use updated packages.\n"
     ]
    }
   ],
   "source": [
    "# Instalar dependências no kernel atual (se precisar)\n",
    "%pip install kaggle pandas"
   ]
  },
  {
   "cell_type": "markdown",
   "id": "e4e681c8",
   "metadata": {},
   "source": [
    "## 2. Criar pasta de destino"
   ]
  },
  {
   "cell_type": "code",
   "execution_count": null,
   "id": "135789b9",
   "metadata": {},
   "outputs": [],
   "source": [
    "#mkdir -p ../data/raw"
   ]
  },
  {
   "cell_type": "markdown",
   "id": "5738e4c3",
   "metadata": {},
   "source": [
    "## 3. Baixar dataset do Kaggle"
   ]
  },
  {
   "cell_type": "code",
   "execution_count": 6,
   "id": "0d3fd3a9",
   "metadata": {},
   "outputs": [
    {
     "name": "stdout",
     "output_type": "stream",
     "text": [
      "Dataset URL: https://www.kaggle.com/datasets/praveengovi/emotions-dataset-for-nlp\n",
      "License(s): CC-BY-SA-4.0\n",
      "Downloading emotions-dataset-for-nlp.zip to ../data/raw\n",
      "  0%|                                                | 0.00/721k [00:00<?, ?B/s]\n",
      "100%|█████████████████████████████████████████| 721k/721k [00:00<00:00, 625MB/s]\n"
     ]
    }
   ],
   "source": [
    "!kaggle datasets download -d praveengovi/emotions-dataset-for-nlp -p ../data/raw --unzip"
   ]
  },
  {
   "cell_type": "markdown",
   "id": "7ec27ae2",
   "metadata": {},
   "source": [
    "## 4. Conferir arquivos"
   ]
  },
  {
   "cell_type": "code",
   "execution_count": 7,
   "id": "e3922492",
   "metadata": {},
   "outputs": [
    {
     "name": "stdout",
     "output_type": "stream",
     "text": [
      "total 4048\n",
      "drwxr-xr-x@ 5 quelihesper  staff      160 Aug 30 16:19 \u001b[34m.\u001b[m\u001b[m\n",
      "drwxr-xr-x@ 3 quelihesper  staff       96 Aug 30 16:05 \u001b[34m..\u001b[m\u001b[m\n",
      "-rw-r--r--@ 1 quelihesper  staff   206760 Aug 30 16:19 test.txt\n",
      "-rw-r--r--@ 1 quelihesper  staff  1658616 Aug 30 16:19 train.txt\n",
      "-rw-r--r--@ 1 quelihesper  staff   204240 Aug 30 16:19 val.txt\n"
     ]
    }
   ],
   "source": [
    "!ls -la ../data/raw"
   ]
  },
  {
   "cell_type": "markdown",
   "id": "a6a2e777",
   "metadata": {},
   "source": [
    "## 5. Importar os 3 arquivos gerados"
   ]
  },
  {
   "cell_type": "code",
   "execution_count": 9,
   "id": "ac518fd0",
   "metadata": {},
   "outputs": [
    {
     "name": "stdout",
     "output_type": "stream",
     "text": [
      "Tamanhos: 16000 2000 2000\n"
     ]
    },
    {
     "data": {
      "text/html": [
       "<div>\n",
       "<style scoped>\n",
       "    .dataframe tbody tr th:only-of-type {\n",
       "        vertical-align: middle;\n",
       "    }\n",
       "\n",
       "    .dataframe tbody tr th {\n",
       "        vertical-align: top;\n",
       "    }\n",
       "\n",
       "    .dataframe thead th {\n",
       "        text-align: right;\n",
       "    }\n",
       "</style>\n",
       "<table border=\"1\" class=\"dataframe\">\n",
       "  <thead>\n",
       "    <tr style=\"text-align: right;\">\n",
       "      <th></th>\n",
       "      <th>text</th>\n",
       "      <th>label</th>\n",
       "    </tr>\n",
       "  </thead>\n",
       "  <tbody>\n",
       "    <tr>\n",
       "      <th>0</th>\n",
       "      <td>i didnt feel humiliated</td>\n",
       "      <td>sadness</td>\n",
       "    </tr>\n",
       "    <tr>\n",
       "      <th>1</th>\n",
       "      <td>i can go from feeling so hopeless to so damned...</td>\n",
       "      <td>sadness</td>\n",
       "    </tr>\n",
       "    <tr>\n",
       "      <th>2</th>\n",
       "      <td>im grabbing a minute to post i feel greedy wrong</td>\n",
       "      <td>anger</td>\n",
       "    </tr>\n",
       "    <tr>\n",
       "      <th>3</th>\n",
       "      <td>i am ever feeling nostalgic about the fireplac...</td>\n",
       "      <td>love</td>\n",
       "    </tr>\n",
       "    <tr>\n",
       "      <th>4</th>\n",
       "      <td>i am feeling grouchy</td>\n",
       "      <td>anger</td>\n",
       "    </tr>\n",
       "  </tbody>\n",
       "</table>\n",
       "</div>"
      ],
      "text/plain": [
       "                                                text    label\n",
       "0                            i didnt feel humiliated  sadness\n",
       "1  i can go from feeling so hopeless to so damned...  sadness\n",
       "2   im grabbing a minute to post i feel greedy wrong    anger\n",
       "3  i am ever feeling nostalgic about the fireplac...     love\n",
       "4                               i am feeling grouchy    anger"
      ]
     },
     "execution_count": 9,
     "metadata": {},
     "output_type": "execute_result"
    }
   ],
   "source": [
    "import pandas as pd\n",
    "from pathlib import Path\n",
    "\n",
    "RAW_DIR = Path(\"../data/raw\")\n",
    "\n",
    "def load_split(fname):\n",
    "    df = pd.read_csv(RAW_DIR / fname, sep=\";\", names=[\"text\", \"label\"])\n",
    "    return df\n",
    "\n",
    "train_df = load_split(\"train.txt\")\n",
    "test_df  = load_split(\"test.txt\")\n",
    "val_df   = load_split(\"val.txt\")\n",
    "\n",
    "print(\"Tamanhos:\", len(train_df), len(test_df), len(val_df))\n",
    "train_df.head()"
   ]
  },
  {
   "cell_type": "markdown",
   "id": "be1ab4b1",
   "metadata": {},
   "source": [
    "## 6. Concatenar e salvar"
   ]
  },
  {
   "cell_type": "code",
   "execution_count": 10,
   "id": "a33632ec",
   "metadata": {},
   "outputs": [
    {
     "name": "stdout",
     "output_type": "stream",
     "text": [
      "✔ Arquivo final salvo em: ../data/processed/emotion.csv\n"
     ]
    },
    {
     "data": {
      "text/html": [
       "<div>\n",
       "<style scoped>\n",
       "    .dataframe tbody tr th:only-of-type {\n",
       "        vertical-align: middle;\n",
       "    }\n",
       "\n",
       "    .dataframe tbody tr th {\n",
       "        vertical-align: top;\n",
       "    }\n",
       "\n",
       "    .dataframe thead th {\n",
       "        text-align: right;\n",
       "    }\n",
       "</style>\n",
       "<table border=\"1\" class=\"dataframe\">\n",
       "  <thead>\n",
       "    <tr style=\"text-align: right;\">\n",
       "      <th></th>\n",
       "      <th>text</th>\n",
       "      <th>label</th>\n",
       "    </tr>\n",
       "  </thead>\n",
       "  <tbody>\n",
       "    <tr>\n",
       "      <th>14171</th>\n",
       "      <td>i then open my eyes and shes gone i cant help ...</td>\n",
       "      <td>sadness</td>\n",
       "    </tr>\n",
       "    <tr>\n",
       "      <th>15426</th>\n",
       "      <td>i will soak in the feel of my beloved next to me</td>\n",
       "      <td>love</td>\n",
       "    </tr>\n",
       "    <tr>\n",
       "      <th>9130</th>\n",
       "      <td>i love shopping on sites where i feel welcomed...</td>\n",
       "      <td>joy</td>\n",
       "    </tr>\n",
       "    <tr>\n",
       "      <th>561</th>\n",
       "      <td>i can feel but i cant touch you said my love w...</td>\n",
       "      <td>sadness</td>\n",
       "    </tr>\n",
       "    <tr>\n",
       "      <th>5755</th>\n",
       "      <td>i really like the job so far and i feel like i...</td>\n",
       "      <td>joy</td>\n",
       "    </tr>\n",
       "  </tbody>\n",
       "</table>\n",
       "</div>"
      ],
      "text/plain": [
       "                                                    text    label\n",
       "14171  i then open my eyes and shes gone i cant help ...  sadness\n",
       "15426   i will soak in the feel of my beloved next to me     love\n",
       "9130   i love shopping on sites where i feel welcomed...      joy\n",
       "561    i can feel but i cant touch you said my love w...  sadness\n",
       "5755   i really like the job so far and i feel like i...      joy"
      ]
     },
     "execution_count": 10,
     "metadata": {},
     "output_type": "execute_result"
    }
   ],
   "source": [
    "# Junta tudo em um único dataframe\n",
    "all_df = pd.concat([train_df, test_df, val_df], ignore_index=True)\n",
    "\n",
    "# Remove espaços extras\n",
    "all_df[\"text\"] = all_df[\"text\"].str.strip()\n",
    "all_df[\"label\"] = all_df[\"label\"].str.strip()\n",
    "\n",
    "# Salva como CSV unificado\n",
    "out_path = \"../data/processed/emotion.csv\"\n",
    "Path(\"../data/processed\").mkdir(parents=True, exist_ok=True)\n",
    "all_df.to_csv(out_path, index=False, encoding=\"utf-8\")\n",
    "\n",
    "print(\"✔ Arquivo final salvo em:\", out_path)\n",
    "all_df.sample(5)"
   ]
  }
 ],
 "metadata": {
  "kernelspec": {
   "display_name": ".venv",
   "language": "python",
   "name": "python3"
  },
  "language_info": {
   "codemirror_mode": {
    "name": "ipython",
    "version": 3
   },
   "file_extension": ".py",
   "mimetype": "text/x-python",
   "name": "python",
   "nbconvert_exporter": "python",
   "pygments_lexer": "ipython3",
   "version": "3.13.2"
  }
 },
 "nbformat": 4,
 "nbformat_minor": 5
}
