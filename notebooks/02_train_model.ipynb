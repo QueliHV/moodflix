{
 "cells": [
  {
   "cell_type": "markdown",
   "id": "4479a4b4",
   "metadata": {},
   "source": [
    "## Dependencias"
   ]
  },
  {
   "cell_type": "markdown",
   "id": "75975312",
   "metadata": {},
   "source": [
    "####  scikit-learn: modelos, métricas, validação.\n",
    "####  pandas: leitura dos CSVs.\n",
    "####  joblib: salvar modelos treinados.\n",
    "####  matplotlib: matriz de confusão."
   ]
  },
  {
   "cell_type": "code",
   "execution_count": 1,
   "id": "ee634338",
   "metadata": {},
   "outputs": [
    {
     "name": "stdout",
     "output_type": "stream",
     "text": [
      "\n",
      "\u001b[1m[\u001b[0m\u001b[34;49mnotice\u001b[0m\u001b[1;39;49m]\u001b[0m\u001b[39;49m A new release of pip is available: \u001b[0m\u001b[31;49m25.0\u001b[0m\u001b[39;49m -> \u001b[0m\u001b[32;49m25.2\u001b[0m\n",
      "\u001b[1m[\u001b[0m\u001b[34;49mnotice\u001b[0m\u001b[1;39;49m]\u001b[0m\u001b[39;49m To update, run: \u001b[0m\u001b[32;49mpip install --upgrade pip\u001b[0m\n",
      "Note: you may need to restart the kernel to use updated packages.\n"
     ]
    }
   ],
   "source": [
    "%pip install -q scikit-learn pandas joblib matplotlib"
   ]
  },
  {
   "cell_type": "markdown",
   "id": "4b623152",
   "metadata": {},
   "source": [
    "## Imports e caminhos"
   ]
  },
  {
   "cell_type": "code",
   "execution_count": 4,
   "id": "629343fb",
   "metadata": {},
   "outputs": [],
   "source": [
    "from pathlib import Path\n",
    "import pandas as pd\n",
    "import numpy as np\n",
    "import joblib\n",
    "import matplotlib.pyplot as plt\n",
    "\n",
    "from sklearn.pipeline import Pipeline\n",
    "from sklearn.feature_extraction.text import TfidfVectorizer\n",
    "from sklearn.linear_model import LogisticRegression\n",
    "from sklearn.svm import LinearSVC\n",
    "from sklearn.model_selection import GridSearchCV, StratifiedKFold\n",
    "from sklearn.metrics import classification_report, confusion_matrix, ConfusionMatrixDisplay, f1_score\n",
    "\n",
    "# Pastas\n",
    "DATA = Path(\"../data/processed\")        # onde estão os CSVs traduzidos\n",
    "ART  = Path(\"../model/artifacts\")       # onde salvaremos os modelos\n",
    "ART.mkdir(parents=True, exist_ok=True)"
   ]
  },
  {
   "cell_type": "markdown",
   "id": "f43b46d3",
   "metadata": {},
   "source": [
    "## Carregar dados (train/val/test)"
   ]
  },
  {
   "cell_type": "code",
   "execution_count": 5,
   "id": "7b9349e3",
   "metadata": {},
   "outputs": [
    {
     "data": {
      "text/plain": [
       "(16000, 2000, 2000)"
      ]
     },
     "execution_count": 5,
     "metadata": {},
     "output_type": "execute_result"
    }
   ],
   "source": [
    "train = pd.read_csv(DATA / \"emotion_train_pt.csv\")\n",
    "val   = pd.read_csv(DATA / \"emotion_val_pt.csv\")\n",
    "test  = pd.read_csv(DATA / \"emotion_test_pt.csv\")\n",
    "\n",
    "# Garantir colunas esperadas\n",
    "assert set(train.columns) == {\"text\",\"label\"}\n",
    "assert set(val.columns)   == {\"text\",\"label\"}\n",
    "assert set(test.columns)  == {\"text\",\"label\"}\n",
    "\n",
    "# Limpa NaNs e separa X,y\n",
    "train = train.dropna(subset=[\"text\",\"label\"]).reset_index(drop=True)\n",
    "val   = val.dropna(subset=[\"text\",\"label\"]).reset_index(drop=True)\n",
    "test  = test.dropna(subset=[\"text\",\"label\"]).reset_index(drop=True)\n",
    "\n",
    "X_train, y_train = train[\"text\"], train[\"label\"]\n",
    "X_val,   y_val   = val[\"text\"],   val[\"label\"]\n",
    "X_test,  y_test  = test[\"text\"],  test[\"label\"]\n",
    "\n",
    "len(train), len(val), len(test)"
   ]
  },
  {
   "cell_type": "markdown",
   "id": "49764675",
   "metadata": {},
   "source": [
    "## Funções auxiliares (treino, avaliação, gráficos)"
   ]
  },
  {
   "cell_type": "code",
   "execution_count": 6,
   "id": "3db5746b",
   "metadata": {},
   "outputs": [],
   "source": [
    "def evaluate(model, X, y, titulo=\"\"):\n",
    "    \"\"\"Imprime F1-macro e relatório por classe.\"\"\"\n",
    "    pred = model.predict(X)\n",
    "    print(f\"\\n== {titulo} ==\")\n",
    "    print(\"F1-macro:\", f1_score(y, pred, average=\"macro\"))\n",
    "    print(classification_report(y, pred))\n",
    "    return pred\n",
    "\n",
    "def plot_confusion(y_true, y_pred, title=\"Matriz de confusão\"):\n",
    "    labels = sorted(np.unique(y_true))\n",
    "    cm = confusion_matrix(y_true, y_pred, labels=labels)\n",
    "    disp = ConfusionMatrixDisplay(confusion_matrix=cm, display_labels=labels)\n",
    "    fig, ax = plt.subplots(figsize=(6,6))\n",
    "    disp.plot(ax=ax, cmap=\"Blues\", xticks_rotation=45, colorbar=False)\n",
    "    plt.title(title)\n",
    "    plt.tight_layout()\n",
    "    plt.show()"
   ]
  },
  {
   "cell_type": "markdown",
   "id": "e0742fd2",
   "metadata": {},
   "source": [
    "## Pipelines base (TF-IDF + classificador)"
   ]
  },
  {
   "cell_type": "code",
   "execution_count": 7,
   "id": "df02159a",
   "metadata": {},
   "outputs": [],
   "source": [
    "# Vetorizador padrão para ambos os modelos\n",
    "tfidf = TfidfVectorizer(\n",
    "    max_features=30000,      # vocabulário de até 30k termos\n",
    "    ngram_range=(1,2),       # unigrama + bigrama\n",
    "    lowercase=True,          # normaliza\n",
    "    strip_accents=\"unicode\"  # remove acentuação\n",
    ")\n",
    "\n",
    "# Modelo 1: Logistic Regression (linear, com probabilidades)\n",
    "pipe_logreg = Pipeline([\n",
    "    (\"tfidf\", tfidf),\n",
    "    (\"clf\", LogisticRegression(\n",
    "        max_iter=2000,\n",
    "        class_weight=\"balanced\",\n",
    "        solver=\"saga\",\n",
    "        n_jobs=-1,\n",
    "        random_state=42\n",
    "    ))\n",
    "])\n",
    "\n",
    "# Modelo 2: SVM linear (LinearSVC) — rápido e forte para texto\n",
    "pipe_svm = Pipeline([\n",
    "    (\"tfidf\", tfidf),\n",
    "    (\"clf\", LinearSVC(\n",
    "        class_weight=\"balanced\",\n",
    "        random_state=42\n",
    "    ))\n",
    "])"
   ]
  },
  {
   "cell_type": "markdown",
   "id": "7c7623fc",
   "metadata": {},
   "source": [
    "## GridSearch (tunar cada modelo no train com CV e avaliar no val)"
   ]
  },
  {
   "cell_type": "code",
   "execution_count": 8,
   "id": "afc6d0f1",
   "metadata": {},
   "outputs": [
    {
     "name": "stdout",
     "output_type": "stream",
     "text": [
      "Fitting 5 folds for each of 12 candidates, totalling 60 fits\n"
     ]
    },
    {
     "name": "stderr",
     "output_type": "stream",
     "text": [
      "/Users/quelihesper/Portifolio-Python/moodflix/.venv/lib/python3.13/site-packages/sklearn/linear_model/_sag.py:348: ConvergenceWarning: The max_iter was reached which means the coef_ did not converge\n",
      "  warnings.warn(\n",
      "/Users/quelihesper/Portifolio-Python/moodflix/.venv/lib/python3.13/site-packages/sklearn/linear_model/_sag.py:348: ConvergenceWarning: The max_iter was reached which means the coef_ did not converge\n",
      "  warnings.warn(\n",
      "/Users/quelihesper/Portifolio-Python/moodflix/.venv/lib/python3.13/site-packages/sklearn/linear_model/_sag.py:348: ConvergenceWarning: The max_iter was reached which means the coef_ did not converge\n",
      "  warnings.warn(\n",
      "/Users/quelihesper/Portifolio-Python/moodflix/.venv/lib/python3.13/site-packages/sklearn/linear_model/_sag.py:348: ConvergenceWarning: The max_iter was reached which means the coef_ did not converge\n",
      "  warnings.warn(\n",
      "/Users/quelihesper/Portifolio-Python/moodflix/.venv/lib/python3.13/site-packages/sklearn/linear_model/_sag.py:348: ConvergenceWarning: The max_iter was reached which means the coef_ did not converge\n",
      "  warnings.warn(\n",
      "/Users/quelihesper/Portifolio-Python/moodflix/.venv/lib/python3.13/site-packages/sklearn/linear_model/_sag.py:348: ConvergenceWarning: The max_iter was reached which means the coef_ did not converge\n",
      "  warnings.warn(\n",
      "/Users/quelihesper/Portifolio-Python/moodflix/.venv/lib/python3.13/site-packages/sklearn/linear_model/_sag.py:348: ConvergenceWarning: The max_iter was reached which means the coef_ did not converge\n",
      "  warnings.warn(\n",
      "/Users/quelihesper/Portifolio-Python/moodflix/.venv/lib/python3.13/site-packages/sklearn/linear_model/_sag.py:348: ConvergenceWarning: The max_iter was reached which means the coef_ did not converge\n",
      "  warnings.warn(\n",
      "/Users/quelihesper/Portifolio-Python/moodflix/.venv/lib/python3.13/site-packages/sklearn/linear_model/_sag.py:348: ConvergenceWarning: The max_iter was reached which means the coef_ did not converge\n",
      "  warnings.warn(\n",
      "/Users/quelihesper/Portifolio-Python/moodflix/.venv/lib/python3.13/site-packages/sklearn/linear_model/_sag.py:348: ConvergenceWarning: The max_iter was reached which means the coef_ did not converge\n",
      "  warnings.warn(\n",
      "/Users/quelihesper/Portifolio-Python/moodflix/.venv/lib/python3.13/site-packages/sklearn/linear_model/_sag.py:348: ConvergenceWarning: The max_iter was reached which means the coef_ did not converge\n",
      "  warnings.warn(\n",
      "/Users/quelihesper/Portifolio-Python/moodflix/.venv/lib/python3.13/site-packages/sklearn/linear_model/_sag.py:348: ConvergenceWarning: The max_iter was reached which means the coef_ did not converge\n",
      "  warnings.warn(\n",
      "/Users/quelihesper/Portifolio-Python/moodflix/.venv/lib/python3.13/site-packages/sklearn/linear_model/_sag.py:348: ConvergenceWarning: The max_iter was reached which means the coef_ did not converge\n",
      "  warnings.warn(\n",
      "/Users/quelihesper/Portifolio-Python/moodflix/.venv/lib/python3.13/site-packages/sklearn/linear_model/_sag.py:348: ConvergenceWarning: The max_iter was reached which means the coef_ did not converge\n",
      "  warnings.warn(\n",
      "/Users/quelihesper/Portifolio-Python/moodflix/.venv/lib/python3.13/site-packages/sklearn/linear_model/_sag.py:348: ConvergenceWarning: The max_iter was reached which means the coef_ did not converge\n",
      "  warnings.warn(\n",
      "/Users/quelihesper/Portifolio-Python/moodflix/.venv/lib/python3.13/site-packages/sklearn/linear_model/_sag.py:348: ConvergenceWarning: The max_iter was reached which means the coef_ did not converge\n",
      "  warnings.warn(\n",
      "/Users/quelihesper/Portifolio-Python/moodflix/.venv/lib/python3.13/site-packages/sklearn/linear_model/_sag.py:348: ConvergenceWarning: The max_iter was reached which means the coef_ did not converge\n",
      "  warnings.warn(\n",
      "/Users/quelihesper/Portifolio-Python/moodflix/.venv/lib/python3.13/site-packages/sklearn/linear_model/_sag.py:348: ConvergenceWarning: The max_iter was reached which means the coef_ did not converge\n",
      "  warnings.warn(\n",
      "/Users/quelihesper/Portifolio-Python/moodflix/.venv/lib/python3.13/site-packages/sklearn/linear_model/_sag.py:348: ConvergenceWarning: The max_iter was reached which means the coef_ did not converge\n",
      "  warnings.warn(\n",
      "/Users/quelihesper/Portifolio-Python/moodflix/.venv/lib/python3.13/site-packages/sklearn/linear_model/_sag.py:348: ConvergenceWarning: The max_iter was reached which means the coef_ did not converge\n",
      "  warnings.warn(\n",
      "/Users/quelihesper/Portifolio-Python/moodflix/.venv/lib/python3.13/site-packages/sklearn/linear_model/_sag.py:348: ConvergenceWarning: The max_iter was reached which means the coef_ did not converge\n",
      "  warnings.warn(\n",
      "/Users/quelihesper/Portifolio-Python/moodflix/.venv/lib/python3.13/site-packages/sklearn/linear_model/_sag.py:348: ConvergenceWarning: The max_iter was reached which means the coef_ did not converge\n",
      "  warnings.warn(\n",
      "/Users/quelihesper/Portifolio-Python/moodflix/.venv/lib/python3.13/site-packages/sklearn/linear_model/_sag.py:348: ConvergenceWarning: The max_iter was reached which means the coef_ did not converge\n",
      "  warnings.warn(\n",
      "/Users/quelihesper/Portifolio-Python/moodflix/.venv/lib/python3.13/site-packages/sklearn/linear_model/_sag.py:348: ConvergenceWarning: The max_iter was reached which means the coef_ did not converge\n",
      "  warnings.warn(\n",
      "/Users/quelihesper/Portifolio-Python/moodflix/.venv/lib/python3.13/site-packages/sklearn/linear_model/_sag.py:348: ConvergenceWarning: The max_iter was reached which means the coef_ did not converge\n",
      "  warnings.warn(\n",
      "/Users/quelihesper/Portifolio-Python/moodflix/.venv/lib/python3.13/site-packages/sklearn/linear_model/_sag.py:348: ConvergenceWarning: The max_iter was reached which means the coef_ did not converge\n",
      "  warnings.warn(\n",
      "/Users/quelihesper/Portifolio-Python/moodflix/.venv/lib/python3.13/site-packages/sklearn/linear_model/_sag.py:348: ConvergenceWarning: The max_iter was reached which means the coef_ did not converge\n",
      "  warnings.warn(\n",
      "/Users/quelihesper/Portifolio-Python/moodflix/.venv/lib/python3.13/site-packages/sklearn/linear_model/_sag.py:348: ConvergenceWarning: The max_iter was reached which means the coef_ did not converge\n",
      "  warnings.warn(\n",
      "/Users/quelihesper/Portifolio-Python/moodflix/.venv/lib/python3.13/site-packages/sklearn/linear_model/_sag.py:348: ConvergenceWarning: The max_iter was reached which means the coef_ did not converge\n",
      "  warnings.warn(\n",
      "/Users/quelihesper/Portifolio-Python/moodflix/.venv/lib/python3.13/site-packages/sklearn/linear_model/_sag.py:348: ConvergenceWarning: The max_iter was reached which means the coef_ did not converge\n",
      "  warnings.warn(\n",
      "/Users/quelihesper/Portifolio-Python/moodflix/.venv/lib/python3.13/site-packages/sklearn/linear_model/_sag.py:348: ConvergenceWarning: The max_iter was reached which means the coef_ did not converge\n",
      "  warnings.warn(\n",
      "/Users/quelihesper/Portifolio-Python/moodflix/.venv/lib/python3.13/site-packages/sklearn/linear_model/_sag.py:348: ConvergenceWarning: The max_iter was reached which means the coef_ did not converge\n",
      "  warnings.warn(\n",
      "/Users/quelihesper/Portifolio-Python/moodflix/.venv/lib/python3.13/site-packages/sklearn/linear_model/_sag.py:348: ConvergenceWarning: The max_iter was reached which means the coef_ did not converge\n",
      "  warnings.warn(\n",
      "/Users/quelihesper/Portifolio-Python/moodflix/.venv/lib/python3.13/site-packages/sklearn/linear_model/_sag.py:348: ConvergenceWarning: The max_iter was reached which means the coef_ did not converge\n",
      "  warnings.warn(\n",
      "/Users/quelihesper/Portifolio-Python/moodflix/.venv/lib/python3.13/site-packages/sklearn/linear_model/_sag.py:348: ConvergenceWarning: The max_iter was reached which means the coef_ did not converge\n",
      "  warnings.warn(\n",
      "/Users/quelihesper/Portifolio-Python/moodflix/.venv/lib/python3.13/site-packages/sklearn/linear_model/_sag.py:348: ConvergenceWarning: The max_iter was reached which means the coef_ did not converge\n",
      "  warnings.warn(\n",
      "/Users/quelihesper/Portifolio-Python/moodflix/.venv/lib/python3.13/site-packages/sklearn/linear_model/_sag.py:348: ConvergenceWarning: The max_iter was reached which means the coef_ did not converge\n",
      "  warnings.warn(\n",
      "/Users/quelihesper/Portifolio-Python/moodflix/.venv/lib/python3.13/site-packages/sklearn/linear_model/_sag.py:348: ConvergenceWarning: The max_iter was reached which means the coef_ did not converge\n",
      "  warnings.warn(\n",
      "/Users/quelihesper/Portifolio-Python/moodflix/.venv/lib/python3.13/site-packages/sklearn/linear_model/_sag.py:348: ConvergenceWarning: The max_iter was reached which means the coef_ did not converge\n",
      "  warnings.warn(\n",
      "/Users/quelihesper/Portifolio-Python/moodflix/.venv/lib/python3.13/site-packages/sklearn/linear_model/_sag.py:348: ConvergenceWarning: The max_iter was reached which means the coef_ did not converge\n",
      "  warnings.warn(\n",
      "/Users/quelihesper/Portifolio-Python/moodflix/.venv/lib/python3.13/site-packages/sklearn/linear_model/_sag.py:348: ConvergenceWarning: The max_iter was reached which means the coef_ did not converge\n",
      "  warnings.warn(\n",
      "/Users/quelihesper/Portifolio-Python/moodflix/.venv/lib/python3.13/site-packages/sklearn/linear_model/_sag.py:348: ConvergenceWarning: The max_iter was reached which means the coef_ did not converge\n",
      "  warnings.warn(\n",
      "/Users/quelihesper/Portifolio-Python/moodflix/.venv/lib/python3.13/site-packages/sklearn/linear_model/_sag.py:348: ConvergenceWarning: The max_iter was reached which means the coef_ did not converge\n",
      "  warnings.warn(\n",
      "/Users/quelihesper/Portifolio-Python/moodflix/.venv/lib/python3.13/site-packages/sklearn/linear_model/_sag.py:348: ConvergenceWarning: The max_iter was reached which means the coef_ did not converge\n",
      "  warnings.warn(\n",
      "/Users/quelihesper/Portifolio-Python/moodflix/.venv/lib/python3.13/site-packages/sklearn/linear_model/_sag.py:348: ConvergenceWarning: The max_iter was reached which means the coef_ did not converge\n",
      "  warnings.warn(\n",
      "/Users/quelihesper/Portifolio-Python/moodflix/.venv/lib/python3.13/site-packages/sklearn/linear_model/_sag.py:348: ConvergenceWarning: The max_iter was reached which means the coef_ did not converge\n",
      "  warnings.warn(\n",
      "/Users/quelihesper/Portifolio-Python/moodflix/.venv/lib/python3.13/site-packages/sklearn/linear_model/_sag.py:348: ConvergenceWarning: The max_iter was reached which means the coef_ did not converge\n",
      "  warnings.warn(\n",
      "/Users/quelihesper/Portifolio-Python/moodflix/.venv/lib/python3.13/site-packages/sklearn/linear_model/_sag.py:348: ConvergenceWarning: The max_iter was reached which means the coef_ did not converge\n",
      "  warnings.warn(\n",
      "/Users/quelihesper/Portifolio-Python/moodflix/.venv/lib/python3.13/site-packages/sklearn/linear_model/_sag.py:348: ConvergenceWarning: The max_iter was reached which means the coef_ did not converge\n",
      "  warnings.warn(\n",
      "/Users/quelihesper/Portifolio-Python/moodflix/.venv/lib/python3.13/site-packages/sklearn/linear_model/_sag.py:348: ConvergenceWarning: The max_iter was reached which means the coef_ did not converge\n",
      "  warnings.warn(\n",
      "/Users/quelihesper/Portifolio-Python/moodflix/.venv/lib/python3.13/site-packages/sklearn/linear_model/_sag.py:348: ConvergenceWarning: The max_iter was reached which means the coef_ did not converge\n",
      "  warnings.warn(\n",
      "/Users/quelihesper/Portifolio-Python/moodflix/.venv/lib/python3.13/site-packages/sklearn/linear_model/_sag.py:348: ConvergenceWarning: The max_iter was reached which means the coef_ did not converge\n",
      "  warnings.warn(\n",
      "/Users/quelihesper/Portifolio-Python/moodflix/.venv/lib/python3.13/site-packages/sklearn/linear_model/_sag.py:348: ConvergenceWarning: The max_iter was reached which means the coef_ did not converge\n",
      "  warnings.warn(\n",
      "/Users/quelihesper/Portifolio-Python/moodflix/.venv/lib/python3.13/site-packages/sklearn/linear_model/_sag.py:348: ConvergenceWarning: The max_iter was reached which means the coef_ did not converge\n",
      "  warnings.warn(\n",
      "/Users/quelihesper/Portifolio-Python/moodflix/.venv/lib/python3.13/site-packages/sklearn/linear_model/_sag.py:348: ConvergenceWarning: The max_iter was reached which means the coef_ did not converge\n",
      "  warnings.warn(\n",
      "/Users/quelihesper/Portifolio-Python/moodflix/.venv/lib/python3.13/site-packages/sklearn/linear_model/_sag.py:348: ConvergenceWarning: The max_iter was reached which means the coef_ did not converge\n",
      "  warnings.warn(\n",
      "/Users/quelihesper/Portifolio-Python/moodflix/.venv/lib/python3.13/site-packages/sklearn/linear_model/_sag.py:348: ConvergenceWarning: The max_iter was reached which means the coef_ did not converge\n",
      "  warnings.warn(\n",
      "/Users/quelihesper/Portifolio-Python/moodflix/.venv/lib/python3.13/site-packages/sklearn/linear_model/_sag.py:348: ConvergenceWarning: The max_iter was reached which means the coef_ did not converge\n",
      "  warnings.warn(\n",
      "/Users/quelihesper/Portifolio-Python/moodflix/.venv/lib/python3.13/site-packages/sklearn/linear_model/_sag.py:348: ConvergenceWarning: The max_iter was reached which means the coef_ did not converge\n",
      "  warnings.warn(\n",
      "/Users/quelihesper/Portifolio-Python/moodflix/.venv/lib/python3.13/site-packages/sklearn/linear_model/_sag.py:348: ConvergenceWarning: The max_iter was reached which means the coef_ did not converge\n",
      "  warnings.warn(\n",
      "/Users/quelihesper/Portifolio-Python/moodflix/.venv/lib/python3.13/site-packages/sklearn/linear_model/_sag.py:348: ConvergenceWarning: The max_iter was reached which means the coef_ did not converge\n",
      "  warnings.warn(\n"
     ]
    },
    {
     "name": "stdout",
     "output_type": "stream",
     "text": [
      "LogReg - melhores params: {'clf__C': 4.0, 'clf__penalty': 'l2', 'tfidf__max_features': 30000}\n",
      "LogReg - melhor F1 (CV): 0.6028078247087308\n",
      "Fitting 5 folds for each of 12 candidates, totalling 60 fits\n",
      "SVM - melhores params: {'clf__C': 0.5, 'tfidf__max_features': 50000}\n",
      "SVM - melhor F1 (CV): 0.6315705256429808\n"
     ]
    }
   ],
   "source": [
    "cv = StratifiedKFold(n_splits=5, shuffle=True, random_state=42)\n",
    "\n",
    "# Espaços de busca enxutos e eficientes\n",
    "grid_logreg = {\n",
    "    \"tfidf__max_features\": [20000, 30000, 50000],\n",
    "    \"clf__C\": [0.5, 1.0, 2.0, 4.0],     # regularização (↑C = menos regularização)\n",
    "    \"clf__penalty\": [\"l2\"],\n",
    "}\n",
    "\n",
    "grid_svm = {\n",
    "    \"tfidf__max_features\": [20000, 30000, 50000],\n",
    "    \"clf__C\": [0.5, 1.0, 2.0, 4.0],     # LinearSVC também usa C\n",
    "}\n",
    "\n",
    "# Treino + busca para LogReg\n",
    "gs_logreg = GridSearchCV(\n",
    "    pipe_logreg,\n",
    "    grid_logreg,\n",
    "    scoring=\"f1_macro\",\n",
    "    cv=cv,\n",
    "    n_jobs=-1,\n",
    "    verbose=1\n",
    ")\n",
    "gs_logreg.fit(X_train, y_train)\n",
    "best_logreg = gs_logreg.best_estimator_\n",
    "print(\"LogReg - melhores params:\", gs_logreg.best_params_)\n",
    "print(\"LogReg - melhor F1 (CV):\", gs_logreg.best_score_)\n",
    "\n",
    "# Treino + busca para SVM\n",
    "gs_svm = GridSearchCV(\n",
    "    pipe_svm,\n",
    "    grid_svm,\n",
    "    scoring=\"f1_macro\",\n",
    "    cv=cv,\n",
    "    n_jobs=-1,\n",
    "    verbose=1\n",
    ")\n",
    "gs_svm.fit(X_train, y_train)\n",
    "best_svm = gs_svm.best_estimator_\n",
    "print(\"SVM - melhores params:\", gs_svm.best_params_)\n",
    "print(\"SVM - melhor F1 (CV):\", gs_svm.best_score_)"
   ]
  },
  {
   "cell_type": "markdown",
   "id": "77b23efa",
   "metadata": {},
   "source": [
    "## Comparação no conjunto de validação"
   ]
  },
  {
   "cell_type": "code",
   "execution_count": 9,
   "id": "e86cccdb",
   "metadata": {},
   "outputs": [
    {
     "name": "stdout",
     "output_type": "stream",
     "text": [
      "\n",
      "== VAL — LogisticRegression ==\n",
      "F1-macro: 0.6188650917487303\n",
      "              precision    recall  f1-score   support\n",
      "\n",
      "       anger       0.57      0.58      0.57       275\n",
      "        fear       0.67      0.61      0.64       212\n",
      "         joy       0.75      0.77      0.76       704\n",
      "        love       0.51      0.55      0.53       178\n",
      "     sadness       0.71      0.69      0.70       550\n",
      "    surprise       0.56      0.47      0.51        81\n",
      "\n",
      "    accuracy                           0.68      2000\n",
      "   macro avg       0.63      0.61      0.62      2000\n",
      "weighted avg       0.68      0.68      0.67      2000\n",
      "\n",
      "\n",
      "== VAL — SVM (LinearSVC) ==\n",
      "F1-macro: 0.6360532177397678\n",
      "              precision    recall  f1-score   support\n",
      "\n",
      "       anger       0.62      0.56      0.59       275\n",
      "        fear       0.67      0.67      0.67       212\n",
      "         joy       0.76      0.80      0.78       704\n",
      "        love       0.56      0.53      0.54       178\n",
      "     sadness       0.72      0.73      0.72       550\n",
      "    surprise       0.53      0.49      0.51        81\n",
      "\n",
      "    accuracy                           0.70      2000\n",
      "   macro avg       0.64      0.63      0.64      2000\n",
      "weighted avg       0.69      0.70      0.69      2000\n",
      "\n"
     ]
    }
   ],
   "source": [
    "pred_val_log = evaluate(best_logreg, X_val, y_val, \"VAL — LogisticRegression\")\n",
    "pred_val_svm = evaluate(best_svm,    X_val, y_val, \"VAL — SVM (LinearSVC)\")"
   ]
  },
  {
   "cell_type": "code",
   "execution_count": 10,
   "id": "d0a42ed0",
   "metadata": {},
   "outputs": [
    {
     "data": {
      "image/png": "[encoded data removed]",
      "text/plain": [
       "<Figure size 600x600 with 1 Axes>"
      ]
     },
     "metadata": {},
     "output_type": "display_data"
    },
    {
     "data": {
      "image/png": "[encoded data removed]",
      "text/plain": [
       "<Figure size 600x600 with 1 Axes>"
      ]
     },
     "metadata": {},
     "output_type": "display_data"
    }
   ],
   "source": [
    "plot_confusion(y_val, pred_val_log, \"VAL — LogReg\")\n",
    "plot_confusion(y_val, pred_val_svm, \"VAL — SVM\")"
   ]
  },
  {
   "cell_type": "markdown",
   "id": "ead370ea",
   "metadata": {},
   "source": [
    "## Re-treinar o vencedor em train+val e avaliar no test"
   ]
  },
  {
   "cell_type": "code",
   "execution_count": 11,
   "id": "a0bbecf0",
   "metadata": {},
   "outputs": [
    {
     "name": "stdout",
     "output_type": "stream",
     "text": [
      "Vencedor no VAL: SVM\n",
      "\n",
      "== TEST — SVM ==\n",
      "F1-macro: 0.6375083268999185\n",
      "              precision    recall  f1-score   support\n",
      "\n",
      "       anger       0.63      0.60      0.62       275\n",
      "        fear       0.72      0.69      0.70       224\n",
      "         joy       0.76      0.79      0.78       695\n",
      "        love       0.49      0.50      0.49       159\n",
      "     sadness       0.75      0.71      0.73       581\n",
      "    surprise       0.45      0.58      0.51        66\n",
      "\n",
      "    accuracy                           0.70      2000\n",
      "   macro avg       0.63      0.64      0.64      2000\n",
      "weighted avg       0.70      0.70      0.70      2000\n",
      "\n"
     ]
    },
    {
     "data": {
      "image/png": "[encoded data removed]",
      "text/plain": [
       "<Figure size 600x600 with 1 Axes>"
      ]
     },
     "metadata": {},
     "output_type": "display_data"
    }
   ],
   "source": [
    "# Juntar train+val para extrair o máximo de dados antes do teste final\n",
    "X_trval = pd.concat([X_train, X_val], axis=0)\n",
    "y_trval = pd.concat([y_train, y_val], axis=0)\n",
    "\n",
    "# Escolha o vencedor pelo desempenho no VAL:\n",
    "winner_name, winner_pipe = (\n",
    "    (\"LogisticRegression\", best_logreg)\n",
    "    if f1_score(y_val, pred_val_log, average=\"macro\") >= f1_score(y_val, pred_val_svm, average=\"macro\")\n",
    "    else (\"SVM\", best_svm)\n",
    ")\n",
    "print(\"Vencedor no VAL:\", winner_name)\n",
    "\n",
    "# Re-treinar do zero em train+val com os hiperparâmetros escolhidos\n",
    "final_pipe = Pipeline([\n",
    "    (\"tfidf\", TfidfVectorizer(\n",
    "        max_features=winner_pipe.named_steps[\"tfidf\"].max_features,\n",
    "        ngram_range=(1,2),\n",
    "        lowercase=True,\n",
    "        strip_accents=\"unicode\"\n",
    "    )),\n",
    "    (\"clf\", type(winner_pipe.named_steps[\"clf\"])(**{\n",
    "        **{k: v for k, v in winner_pipe.named_steps[\"clf\"].get_params().items()\n",
    "           if k in type(winner_pipe.named_steps[\"clf\"])( ).get_params()}\n",
    "    }))\n",
    "])\n",
    "\n",
    "final_pipe.fit(X_trval, y_trval)\n",
    "\n",
    "# Avaliar no TEST (uma única vez)\n",
    "pred_test = evaluate(final_pipe, X_test, y_test, f\"TEST — {winner_name}\")\n",
    "plot_confusion(y_test, pred_test, f\"TEST — {winner_name}\")"
   ]
  },
  {
   "cell_type": "code",
   "execution_count": 13,
   "id": "0de3fe8e",
   "metadata": {},
   "outputs": [
    {
     "data": {
      "text/plain": [
       "['eu também achei que se poderia sentir o desesperança nessas sequências e eu particularmente gostei da emoção entre o cavaleiro e a squire como eles estiveram juntos de forma semelhante a batman e robin',\n",
       " 'eu sinto como eu cuidar do meu corpo não só na tentativa de ser o tamanho certo, mas sentir-me bem e ter vida plena.',\n",
       " 'eu sentava o frango preferencialmente ósseo em coxas de frango sem pele, pois eu sinto que eles têm o mais sabor em um pote de',\n",
       " 'eu vejo o brilho de seu cabelo sem mais sentir a tenra kisses que usamos para dividir meus olhos e claro o meu coração lembram que mil bons olhos nunca conseguiram colocar os embriões.',\n",
       " 'procuro compartilhar com muita gente porque eu amo as pessoas e quero que elas se sintam amadas.',\n",
       " 'eu sinto um pouco de minha profundidade com minhas habilidades de cor entre todos esses talentos, mas por',\n",
       " 'eu acho que eu tenho que sentir compassivo',\n",
       " 'sinto tal gratidão pelos presentes generosos que recebemos no nosso dia de casamento ao longo dos anos.',\n",
       " 'eu nunca esqueci quando ele disparou o corante em mim dizendo que você vai sentir um fo',\n",
       " 'sinto que a raiva com a outra pessoa não cuidando de outra pessoa esquecida criando uma impressão negativa de que outra pessoa não percebe a pessoa junto a ela não dizendo o hello a outra pessoa que ele tem que reconhecer onde está o meu bom coração.',\n",
       " 'eu posso dizer que eu me sinto como eu quando colo em uma meia-calça e um lápis e quando eu desprovo a roupa que vem ser aceita como neutra e não descrita como uma camiseta t e jeans eu não sinto como eu mesma.',\n",
       " 'eu tive vários novos membros me contam o quanto eles se sentem com o quão aceito são pelos membros existentes e isso é ótimo para ouvi-lo.',\n",
       " 'vou votar este ano só para sentir-se enjoado e inflamatório.',\n",
       " 'prejudico muito a sensação de que eu não sou gostada de nada por eles.',\n",
       " 'figurei ter que blogar sobre o que me sinto apaixonado ou não fazer de mim ou deste blog qualquer justiça.',\n",
       " 'eu gosto de boas brincadeiras eu gosto de ter uma boa companhia e subqueixo de conversar eu gosto de um homem que pode fazer com que uma mulher se sinta hor',\n",
       " 'sinto uma de minhas canções mais amadas de todo o tempo.',\n",
       " 'tive vergonha de sentir essa maneira, mas porque minha formação de mães foi uma parte tão maravilhosa da minha própria vida e eu entendi e ainda amo',\n",
       " 'ainda consigo abalar o sentimento de ele nos amo',\n",
       " 'eu estava apenas falando como eu me sinto a respeito de você e tudo que você responde foi apenas desde quando você começou a me',\n",
       " 'com certeza, sinto como aqueles que são as mercies tenras do pai celeste.',\n",
       " 'sinto-me honestamente no coração que devemos ser fidedignos entre si se a sua',\n",
       " 'sinto-me encantada dentro',\n",
       " 'sinto-me realmente horrível com toda essa nova potência',\n",
       " 'eu sinto que ive estava correndo sem qualquer sentido de direção ou de anseio de propósito ou objetivos de vida.',\n",
       " 'eu posso contar o quanto de horror que esse comentário me fez sentir que não é amparo que ele é condescendente.',\n",
       " 'adoecer só correr para as pessoas ver o vento na minha face ver as cores de beleza da natureza e olhar para os planos que arvoram mais na distância.',\n",
       " 'aprecio consistentemente isso porque eu me sinto tão admirado e eu me sinto tão seguro na natureza.',\n",
       " 'eu sinto uma espécie de alívio doce quando olhei e percebo que ou olha para uma casa não um chuck de rádio e isso me faz feliz.',\n",
       " 'aprendo quando ele mostra como ele se sente porque eu sei que ele não é naturalmente uma pessoa afetiva.',\n",
       " 'eu te toquei com meus sentimentos mantenho-o com meus pensamentos e com um sorri',\n",
       " 'eu estava sentindo o que estava querendo ser capaz de colocar meu fafy amp perdoando panelas de yoga no final do dia de trabalho.',\n",
       " 'eu sinto que o membro mais cuidado vai sair de um buraco gigante que mais provável o fukumura mizuki vai preencher',\n",
       " 'eu sinto-me mal com a renovação do meu compromisso de trazer os donuts para os fiéis da igreja católica de santa família em columbus ohi',\n",
       " 'eu tenho um sentimento de que esta será uma coisa bonita e pequena de um perfume.',\n",
       " 'eu ouvi que ele ainda tem sentimentos para mim que eu fiz horrê-lo e acredito que ele até fez menção de hooking, mas não seria justo inseri-lo aqui.',\n",
       " 'eu consigo parar as lágrimas alegres de fluir, pois eu sinto esse bebê doce em movimento.',\n",
       " 'náuseas, vómitos, vómitos, vómitos, náuseas, vómitos, vómitos, vómitos, vómitos, vómitos, vómitos, vómitos, vómitos, vómitos, vómitos, vómitos, vómitos, vómitos, vómitos, vómitos, vómitos, vómitos, vómitos, vómitos, vómitos, vómitos, vómitos, vómitos, vómitos, vómitos, vómitos, vómitos, vómitos, vómitos, vómitos, vómitos, vómitos, vómitos, vómitos, vómitos, vómitos, vómitos, vómitos, vómitos, vómitos, vómitos, vómitos, vómitos, vómitos, vómitos, vómitos',\n",
       " 'não considero que ela possa ter dificuldade em se sentir acolhida em um determinado grupo de pessoas e que tinha medo de ser rejeitada.',\n",
       " 'ou seja, foi o mesmo sentimento que eu cheguei em torno da antonia e de seu cão que eu sei que a antonia provavelmente tem que dar a a',\n",
       " 'eu sinto que eu cliquei porque as pessoas cliquei',\n",
       " 'eu fiquei constantemente impressionado com a construção do mundo talvez porque ela veio de mãos com o ritmo de preensão nos livros que eu sinto como há suas seções dedicadas a caracterizar suas seções dedicadas à construção do mundo e seções específicas dedicadas a trama',\n",
       " 'eu cheguei a ter esse sentimento de dúvida porque eu sei que quando ele vai para a casa dos amigos tem um monte de pintos lodos ali.',\n",
       " 'eu sei não tenho problema de encontrar pessoas novas e sentir-se acolhida',\n",
       " 'eu estou amamentando meu recém-nascido e estava pensando em quanto tempo as mamas sentem-se sensíveis e supergrandes.',\n",
       " 'eu sinto deus me chamando lá e se ele vai ser um padre para ele e o resto da fé.',\n",
       " 'eu sinto gratidão em relação ao que é',\n",
       " 'sinto os dedos delicados',\n",
       " 'eu fico muito frustrada quando eu falo com eles eu também me sinto compassado com eles porque eles acreditam tão apaixonadamente em coisas que estão apenas mortos err',\n",
       " 'eu trabalhei como editor e parte do meu trabalho foi rejeitar manuscritos que odei, pois naquelas capas eu sentia a antecipação do escritor e o anseio.']"
      ]
     },
     "execution_count": 13,
     "metadata": {},
     "output_type": "execute_result"
    }
   ],
   "source": [
    "# top-50 erros do val para a classe 'love'\n",
    "import numpy as np\n",
    "pred = best_svm.predict(X_val)\n",
    "mask = (y_val==\"love\") & (pred!=\"love\")\n",
    "X_val[mask].head(50).to_list()"
   ]
  },
  {
   "cell_type": "markdown",
   "id": "7d653fb8",
   "metadata": {},
   "source": [
    "##  Salvar os dois modelos e o final"
   ]
  },
  {
   "cell_type": "code",
   "execution_count": 12,
   "id": "d3c450ba",
   "metadata": {},
   "outputs": [
    {
     "name": "stdout",
     "output_type": "stream",
     "text": [
      "✔ salvos em: /Users/quelihesper/Portifolio-Python/moodflix/model/artifacts\n"
     ]
    }
   ],
   "source": [
    "joblib.dump(best_logreg, ART / \"emotion_logreg_val_best.joblib\")\n",
    "joblib.dump(best_svm,    ART / \"emotion_svm_val_best.joblib\")\n",
    "joblib.dump(final_pipe,  ART / f\"emotion_final_{winner_name.lower()}.joblib\")\n",
    "\n",
    "print(\"✔ salvos em:\", ART.resolve())"
   ]
  },
  {
   "cell_type": "markdown",
   "id": "404bb705",
   "metadata": {},
   "source": [
    "# Teste sem tradução"
   ]
  },
  {
   "cell_type": "markdown",
   "id": "1c4bf725",
   "metadata": {},
   "source": [
    "## Carregar os dados EN "
   ]
  },
  {
   "cell_type": "code",
   "execution_count": 17,
   "id": "a318dcee",
   "metadata": {},
   "outputs": [
    {
     "data": {
      "text/plain": [
       "(16000,\n",
       " 2000,\n",
       " 2000,\n",
       "                                                 text    label\n",
       " 0                            i didnt feel humiliated  sadness\n",
       " 1  i can go from feeling so hopeless to so damned...  sadness\n",
       " 2   im grabbing a minute to post i feel greedy wrong    anger)"
      ]
     },
     "execution_count": 17,
     "metadata": {},
     "output_type": "execute_result"
    }
   ],
   "source": [
    "from pathlib import Path\n",
    "import pandas as pd\n",
    "\n",
    "RAW = Path(\"../data/raw\")\n",
    "\n",
    "def load_split_en(path: Path) -> pd.DataFrame:\n",
    "    # tenta ; e depois \\t\n",
    "    try:\n",
    "        df = pd.read_csv(path, sep=\";\", names=[\"text\",\"label\"], engine=\"python\")\n",
    "    except Exception:\n",
    "        df = pd.read_csv(path, sep=\"\\t\", names=[\"text\",\"label\"], engine=\"python\")\n",
    "    df[\"text\"]  = df[\"text\"].astype(str).str.strip()\n",
    "    df[\"label\"] = df[\"label\"].astype(str).str.strip()\n",
    "    return df\n",
    "\n",
    "train_en = load_split_en(RAW/\"train.txt\")\n",
    "val_en   = load_split_en(RAW/\"val.txt\")\n",
    "test_en  = load_split_en(RAW/\"test.txt\")\n",
    "\n",
    "Xtr_en, ytr_en = train_en[\"text\"], train_en[\"label\"]\n",
    "Xva_en, yva_en = val_en[\"text\"],   val_en[\"label\"]\n",
    "Xte_en, yte_en = test_en[\"text\"],  test_en[\"label\"]\n",
    "\n",
    "len(train_en), len(val_en), len(test_en), train_en.head(3)"
   ]
  },
  {
   "cell_type": "markdown",
   "id": "db3bf3e5",
   "metadata": {},
   "source": [
    "## reinar LogReg e SVM (mesma receita, só que em EN)"
   ]
  },
  {
   "cell_type": "code",
   "execution_count": 18,
   "id": "1b27fe66",
   "metadata": {},
   "outputs": [
    {
     "name": "stdout",
     "output_type": "stream",
     "text": [
      "Fitting 5 folds for each of 12 candidates, totalling 60 fits\n"
     ]
    },
    {
     "name": "stderr",
     "output_type": "stream",
     "text": [
      "/Users/quelihesper/Portifolio-Python/moodflix/.venv/lib/python3.13/site-packages/sklearn/linear_model/_sag.py:348: ConvergenceWarning: The max_iter was reached which means the coef_ did not converge\n",
      "  warnings.warn(\n",
      "/Users/quelihesper/Portifolio-Python/moodflix/.venv/lib/python3.13/site-packages/sklearn/linear_model/_sag.py:348: ConvergenceWarning: The max_iter was reached which means the coef_ did not converge\n",
      "  warnings.warn(\n",
      "/Users/quelihesper/Portifolio-Python/moodflix/.venv/lib/python3.13/site-packages/sklearn/linear_model/_sag.py:348: ConvergenceWarning: The max_iter was reached which means the coef_ did not converge\n",
      "  warnings.warn(\n",
      "/Users/quelihesper/Portifolio-Python/moodflix/.venv/lib/python3.13/site-packages/sklearn/linear_model/_sag.py:348: ConvergenceWarning: The max_iter was reached which means the coef_ did not converge\n",
      "  warnings.warn(\n",
      "/Users/quelihesper/Portifolio-Python/moodflix/.venv/lib/python3.13/site-packages/sklearn/linear_model/_sag.py:348: ConvergenceWarning: The max_iter was reached which means the coef_ did not converge\n",
      "  warnings.warn(\n",
      "/Users/quelihesper/Portifolio-Python/moodflix/.venv/lib/python3.13/site-packages/sklearn/linear_model/_sag.py:348: ConvergenceWarning: The max_iter was reached which means the coef_ did not converge\n",
      "  warnings.warn(\n",
      "/Users/quelihesper/Portifolio-Python/moodflix/.venv/lib/python3.13/site-packages/sklearn/linear_model/_sag.py:348: ConvergenceWarning: The max_iter was reached which means the coef_ did not converge\n",
      "  warnings.warn(\n",
      "/Users/quelihesper/Portifolio-Python/moodflix/.venv/lib/python3.13/site-packages/sklearn/linear_model/_sag.py:348: ConvergenceWarning: The max_iter was reached which means the coef_ did not converge\n",
      "  warnings.warn(\n",
      "/Users/quelihesper/Portifolio-Python/moodflix/.venv/lib/python3.13/site-packages/sklearn/linear_model/_sag.py:348: ConvergenceWarning: The max_iter was reached which means the coef_ did not converge\n",
      "  warnings.warn(\n",
      "/Users/quelihesper/Portifolio-Python/moodflix/.venv/lib/python3.13/site-packages/sklearn/linear_model/_sag.py:348: ConvergenceWarning: The max_iter was reached which means the coef_ did not converge\n",
      "  warnings.warn(\n",
      "/Users/quelihesper/Portifolio-Python/moodflix/.venv/lib/python3.13/site-packages/sklearn/linear_model/_sag.py:348: ConvergenceWarning: The max_iter was reached which means the coef_ did not converge\n",
      "  warnings.warn(\n",
      "/Users/quelihesper/Portifolio-Python/moodflix/.venv/lib/python3.13/site-packages/sklearn/linear_model/_sag.py:348: ConvergenceWarning: The max_iter was reached which means the coef_ did not converge\n",
      "  warnings.warn(\n",
      "/Users/quelihesper/Portifolio-Python/moodflix/.venv/lib/python3.13/site-packages/sklearn/linear_model/_sag.py:348: ConvergenceWarning: The max_iter was reached which means the coef_ did not converge\n",
      "  warnings.warn(\n",
      "/Users/quelihesper/Portifolio-Python/moodflix/.venv/lib/python3.13/site-packages/sklearn/linear_model/_sag.py:348: ConvergenceWarning: The max_iter was reached which means the coef_ did not converge\n",
      "  warnings.warn(\n",
      "/Users/quelihesper/Portifolio-Python/moodflix/.venv/lib/python3.13/site-packages/sklearn/linear_model/_sag.py:348: ConvergenceWarning: The max_iter was reached which means the coef_ did not converge\n",
      "  warnings.warn(\n",
      "/Users/quelihesper/Portifolio-Python/moodflix/.venv/lib/python3.13/site-packages/sklearn/linear_model/_sag.py:348: ConvergenceWarning: The max_iter was reached which means the coef_ did not converge\n",
      "  warnings.warn(\n",
      "/Users/quelihesper/Portifolio-Python/moodflix/.venv/lib/python3.13/site-packages/sklearn/linear_model/_sag.py:348: ConvergenceWarning: The max_iter was reached which means the coef_ did not converge\n",
      "  warnings.warn(\n",
      "/Users/quelihesper/Portifolio-Python/moodflix/.venv/lib/python3.13/site-packages/sklearn/linear_model/_sag.py:348: ConvergenceWarning: The max_iter was reached which means the coef_ did not converge\n",
      "  warnings.warn(\n",
      "/Users/quelihesper/Portifolio-Python/moodflix/.venv/lib/python3.13/site-packages/sklearn/linear_model/_sag.py:348: ConvergenceWarning: The max_iter was reached which means the coef_ did not converge\n",
      "  warnings.warn(\n",
      "/Users/quelihesper/Portifolio-Python/moodflix/.venv/lib/python3.13/site-packages/sklearn/linear_model/_sag.py:348: ConvergenceWarning: The max_iter was reached which means the coef_ did not converge\n",
      "  warnings.warn(\n",
      "/Users/quelihesper/Portifolio-Python/moodflix/.venv/lib/python3.13/site-packages/sklearn/linear_model/_sag.py:348: ConvergenceWarning: The max_iter was reached which means the coef_ did not converge\n",
      "  warnings.warn(\n",
      "/Users/quelihesper/Portifolio-Python/moodflix/.venv/lib/python3.13/site-packages/sklearn/linear_model/_sag.py:348: ConvergenceWarning: The max_iter was reached which means the coef_ did not converge\n",
      "  warnings.warn(\n",
      "/Users/quelihesper/Portifolio-Python/moodflix/.venv/lib/python3.13/site-packages/sklearn/linear_model/_sag.py:348: ConvergenceWarning: The max_iter was reached which means the coef_ did not converge\n",
      "  warnings.warn(\n",
      "/Users/quelihesper/Portifolio-Python/moodflix/.venv/lib/python3.13/site-packages/sklearn/linear_model/_sag.py:348: ConvergenceWarning: The max_iter was reached which means the coef_ did not converge\n",
      "  warnings.warn(\n",
      "/Users/quelihesper/Portifolio-Python/moodflix/.venv/lib/python3.13/site-packages/sklearn/linear_model/_sag.py:348: ConvergenceWarning: The max_iter was reached which means the coef_ did not converge\n",
      "  warnings.warn(\n",
      "/Users/quelihesper/Portifolio-Python/moodflix/.venv/lib/python3.13/site-packages/sklearn/linear_model/_sag.py:348: ConvergenceWarning: The max_iter was reached which means the coef_ did not converge\n",
      "  warnings.warn(\n",
      "/Users/quelihesper/Portifolio-Python/moodflix/.venv/lib/python3.13/site-packages/sklearn/linear_model/_sag.py:348: ConvergenceWarning: The max_iter was reached which means the coef_ did not converge\n",
      "  warnings.warn(\n",
      "/Users/quelihesper/Portifolio-Python/moodflix/.venv/lib/python3.13/site-packages/sklearn/linear_model/_sag.py:348: ConvergenceWarning: The max_iter was reached which means the coef_ did not converge\n",
      "  warnings.warn(\n",
      "/Users/quelihesper/Portifolio-Python/moodflix/.venv/lib/python3.13/site-packages/sklearn/linear_model/_sag.py:348: ConvergenceWarning: The max_iter was reached which means the coef_ did not converge\n",
      "  warnings.warn(\n",
      "/Users/quelihesper/Portifolio-Python/moodflix/.venv/lib/python3.13/site-packages/sklearn/linear_model/_sag.py:348: ConvergenceWarning: The max_iter was reached which means the coef_ did not converge\n",
      "  warnings.warn(\n",
      "/Users/quelihesper/Portifolio-Python/moodflix/.venv/lib/python3.13/site-packages/sklearn/linear_model/_sag.py:348: ConvergenceWarning: The max_iter was reached which means the coef_ did not converge\n",
      "  warnings.warn(\n",
      "/Users/quelihesper/Portifolio-Python/moodflix/.venv/lib/python3.13/site-packages/sklearn/linear_model/_sag.py:348: ConvergenceWarning: The max_iter was reached which means the coef_ did not converge\n",
      "  warnings.warn(\n",
      "/Users/quelihesper/Portifolio-Python/moodflix/.venv/lib/python3.13/site-packages/sklearn/linear_model/_sag.py:348: ConvergenceWarning: The max_iter was reached which means the coef_ did not converge\n",
      "  warnings.warn(\n",
      "/Users/quelihesper/Portifolio-Python/moodflix/.venv/lib/python3.13/site-packages/sklearn/linear_model/_sag.py:348: ConvergenceWarning: The max_iter was reached which means the coef_ did not converge\n",
      "  warnings.warn(\n",
      "/Users/quelihesper/Portifolio-Python/moodflix/.venv/lib/python3.13/site-packages/sklearn/linear_model/_sag.py:348: ConvergenceWarning: The max_iter was reached which means the coef_ did not converge\n",
      "  warnings.warn(\n",
      "/Users/quelihesper/Portifolio-Python/moodflix/.venv/lib/python3.13/site-packages/sklearn/linear_model/_sag.py:348: ConvergenceWarning: The max_iter was reached which means the coef_ did not converge\n",
      "  warnings.warn(\n",
      "/Users/quelihesper/Portifolio-Python/moodflix/.venv/lib/python3.13/site-packages/sklearn/linear_model/_sag.py:348: ConvergenceWarning: The max_iter was reached which means the coef_ did not converge\n",
      "  warnings.warn(\n",
      "/Users/quelihesper/Portifolio-Python/moodflix/.venv/lib/python3.13/site-packages/sklearn/linear_model/_sag.py:348: ConvergenceWarning: The max_iter was reached which means the coef_ did not converge\n",
      "  warnings.warn(\n",
      "/Users/quelihesper/Portifolio-Python/moodflix/.venv/lib/python3.13/site-packages/sklearn/linear_model/_sag.py:348: ConvergenceWarning: The max_iter was reached which means the coef_ did not converge\n",
      "  warnings.warn(\n",
      "/Users/quelihesper/Portifolio-Python/moodflix/.venv/lib/python3.13/site-packages/sklearn/linear_model/_sag.py:348: ConvergenceWarning: The max_iter was reached which means the coef_ did not converge\n",
      "  warnings.warn(\n",
      "/Users/quelihesper/Portifolio-Python/moodflix/.venv/lib/python3.13/site-packages/sklearn/linear_model/_sag.py:348: ConvergenceWarning: The max_iter was reached which means the coef_ did not converge\n",
      "  warnings.warn(\n",
      "/Users/quelihesper/Portifolio-Python/moodflix/.venv/lib/python3.13/site-packages/sklearn/linear_model/_sag.py:348: ConvergenceWarning: The max_iter was reached which means the coef_ did not converge\n",
      "  warnings.warn(\n",
      "/Users/quelihesper/Portifolio-Python/moodflix/.venv/lib/python3.13/site-packages/sklearn/linear_model/_sag.py:348: ConvergenceWarning: The max_iter was reached which means the coef_ did not converge\n",
      "  warnings.warn(\n",
      "/Users/quelihesper/Portifolio-Python/moodflix/.venv/lib/python3.13/site-packages/sklearn/linear_model/_sag.py:348: ConvergenceWarning: The max_iter was reached which means the coef_ did not converge\n",
      "  warnings.warn(\n",
      "/Users/quelihesper/Portifolio-Python/moodflix/.venv/lib/python3.13/site-packages/sklearn/linear_model/_sag.py:348: ConvergenceWarning: The max_iter was reached which means the coef_ did not converge\n",
      "  warnings.warn(\n",
      "/Users/quelihesper/Portifolio-Python/moodflix/.venv/lib/python3.13/site-packages/sklearn/linear_model/_sag.py:348: ConvergenceWarning: The max_iter was reached which means the coef_ did not converge\n",
      "  warnings.warn(\n",
      "/Users/quelihesper/Portifolio-Python/moodflix/.venv/lib/python3.13/site-packages/sklearn/linear_model/_sag.py:348: ConvergenceWarning: The max_iter was reached which means the coef_ did not converge\n",
      "  warnings.warn(\n",
      "/Users/quelihesper/Portifolio-Python/moodflix/.venv/lib/python3.13/site-packages/sklearn/linear_model/_sag.py:348: ConvergenceWarning: The max_iter was reached which means the coef_ did not converge\n",
      "  warnings.warn(\n",
      "/Users/quelihesper/Portifolio-Python/moodflix/.venv/lib/python3.13/site-packages/sklearn/linear_model/_sag.py:348: ConvergenceWarning: The max_iter was reached which means the coef_ did not converge\n",
      "  warnings.warn(\n",
      "/Users/quelihesper/Portifolio-Python/moodflix/.venv/lib/python3.13/site-packages/sklearn/linear_model/_sag.py:348: ConvergenceWarning: The max_iter was reached which means the coef_ did not converge\n",
      "  warnings.warn(\n",
      "/Users/quelihesper/Portifolio-Python/moodflix/.venv/lib/python3.13/site-packages/sklearn/linear_model/_sag.py:348: ConvergenceWarning: The max_iter was reached which means the coef_ did not converge\n",
      "  warnings.warn(\n",
      "/Users/quelihesper/Portifolio-Python/moodflix/.venv/lib/python3.13/site-packages/sklearn/linear_model/_sag.py:348: ConvergenceWarning: The max_iter was reached which means the coef_ did not converge\n",
      "  warnings.warn(\n",
      "/Users/quelihesper/Portifolio-Python/moodflix/.venv/lib/python3.13/site-packages/sklearn/linear_model/_sag.py:348: ConvergenceWarning: The max_iter was reached which means the coef_ did not converge\n",
      "  warnings.warn(\n",
      "/Users/quelihesper/Portifolio-Python/moodflix/.venv/lib/python3.13/site-packages/sklearn/linear_model/_sag.py:348: ConvergenceWarning: The max_iter was reached which means the coef_ did not converge\n",
      "  warnings.warn(\n",
      "/Users/quelihesper/Portifolio-Python/moodflix/.venv/lib/python3.13/site-packages/sklearn/linear_model/_sag.py:348: ConvergenceWarning: The max_iter was reached which means the coef_ did not converge\n",
      "  warnings.warn(\n",
      "/Users/quelihesper/Portifolio-Python/moodflix/.venv/lib/python3.13/site-packages/sklearn/linear_model/_sag.py:348: ConvergenceWarning: The max_iter was reached which means the coef_ did not converge\n",
      "  warnings.warn(\n",
      "/Users/quelihesper/Portifolio-Python/moodflix/.venv/lib/python3.13/site-packages/sklearn/linear_model/_sag.py:348: ConvergenceWarning: The max_iter was reached which means the coef_ did not converge\n",
      "  warnings.warn(\n",
      "/Users/quelihesper/Portifolio-Python/moodflix/.venv/lib/python3.13/site-packages/sklearn/linear_model/_sag.py:348: ConvergenceWarning: The max_iter was reached which means the coef_ did not converge\n",
      "  warnings.warn(\n",
      "/Users/quelihesper/Portifolio-Python/moodflix/.venv/lib/python3.13/site-packages/sklearn/linear_model/_sag.py:348: ConvergenceWarning: The max_iter was reached which means the coef_ did not converge\n",
      "  warnings.warn(\n",
      "/Users/quelihesper/Portifolio-Python/moodflix/.venv/lib/python3.13/site-packages/sklearn/linear_model/_sag.py:348: ConvergenceWarning: The max_iter was reached which means the coef_ did not converge\n",
      "  warnings.warn(\n",
      "/Users/quelihesper/Portifolio-Python/moodflix/.venv/lib/python3.13/site-packages/sklearn/linear_model/_sag.py:348: ConvergenceWarning: The max_iter was reached which means the coef_ did not converge\n",
      "  warnings.warn(\n"
     ]
    },
    {
     "name": "stdout",
     "output_type": "stream",
     "text": [
      "Fitting 5 folds for each of 12 candidates, totalling 60 fits\n",
      "EN LogReg CV: 0.8483677986373068 {'clf__C': 4.0, 'tfidf__max_features': 20000}\n",
      "EN SVM    CV: 0.858556755701071 {'clf__C': 0.5, 'tfidf__max_features': 20000}\n",
      "\n",
      "VAL EN LogReg F1-macro: 0.8647950208288672\n",
      "              precision    recall  f1-score   support\n",
      "\n",
      "       anger       0.91      0.91      0.91       275\n",
      "        fear       0.88      0.82      0.85       212\n",
      "         joy       0.93      0.91      0.92       704\n",
      "        love       0.80      0.90      0.84       178\n",
      "     sadness       0.92      0.92      0.92       550\n",
      "    surprise       0.73      0.79      0.76        81\n",
      "\n",
      "    accuracy                           0.90      2000\n",
      "   macro avg       0.86      0.87      0.86      2000\n",
      "weighted avg       0.90      0.90      0.90      2000\n",
      "\n",
      "\n",
      "VAL EN SVM F1-macro: 0.8851807796615093\n",
      "              precision    recall  f1-score   support\n",
      "\n",
      "       anger       0.92      0.92      0.92       275\n",
      "        fear       0.89      0.85      0.87       212\n",
      "         joy       0.94      0.92      0.93       704\n",
      "        love       0.80      0.92      0.86       178\n",
      "     sadness       0.93      0.93      0.93       550\n",
      "    surprise       0.78      0.83      0.80        81\n",
      "\n",
      "    accuracy                           0.91      2000\n",
      "   macro avg       0.88      0.89      0.89      2000\n",
      "weighted avg       0.91      0.91      0.91      2000\n",
      "\n",
      "\n",
      "TEST EN LogReg F1-macro: 0.8386058127626427\n",
      "              precision    recall  f1-score   support\n",
      "\n",
      "       anger       0.87      0.89      0.88       275\n",
      "        fear       0.88      0.81      0.84       224\n",
      "         joy       0.92      0.90      0.91       695\n",
      "        love       0.70      0.85      0.77       159\n",
      "     sadness       0.93      0.91      0.92       581\n",
      "    surprise       0.66      0.77      0.71        66\n",
      "\n",
      "    accuracy                           0.88      2000\n",
      "   macro avg       0.83      0.85      0.84      2000\n",
      "weighted avg       0.89      0.88      0.88      2000\n",
      "\n",
      "\n",
      "TEST EN SVM F1-macro: 0.8463498166242301\n",
      "              precision    recall  f1-score   support\n",
      "\n",
      "       anger       0.88      0.90      0.89       275\n",
      "        fear       0.88      0.84      0.86       224\n",
      "         joy       0.93      0.90      0.91       695\n",
      "        love       0.71      0.86      0.77       159\n",
      "     sadness       0.94      0.92      0.93       581\n",
      "    surprise       0.66      0.77      0.71        66\n",
      "\n",
      "    accuracy                           0.89      2000\n",
      "   macro avg       0.83      0.86      0.85      2000\n",
      "weighted avg       0.89      0.89      0.89      2000\n",
      "\n"
     ]
    },
    {
     "data": {
      "text/plain": [
       "['../model/artifacts/emotion_svm_en_val_best.joblib']"
      ]
     },
     "execution_count": 18,
     "metadata": {},
     "output_type": "execute_result"
    }
   ],
   "source": [
    "from sklearn.pipeline import Pipeline\n",
    "from sklearn.feature_extraction.text import TfidfVectorizer\n",
    "from sklearn.linear_model import LogisticRegression\n",
    "from sklearn.svm import LinearSVC\n",
    "from sklearn.model_selection import GridSearchCV, StratifiedKFold\n",
    "from sklearn.metrics import f1_score, classification_report\n",
    "import joblib\n",
    "\n",
    "tfidf_en = TfidfVectorizer(\n",
    "    max_features=30000, ngram_range=(1,2),\n",
    "    lowercase=True, strip_accents=\"unicode\",\n",
    "    sublinear_tf=True\n",
    ")\n",
    "\n",
    "pipe_log_en = Pipeline([\n",
    "    (\"tfidf\", tfidf_en),\n",
    "    (\"clf\", LogisticRegression(max_iter=2000, class_weight=\"balanced\", solver=\"saga\", n_jobs=-1, random_state=42))\n",
    "])\n",
    "\n",
    "pipe_svm_en = Pipeline([\n",
    "    (\"tfidf\", tfidf_en),\n",
    "    (\"clf\", LinearSVC(class_weight=\"balanced\", random_state=42))\n",
    "])\n",
    "\n",
    "param_grid_log = {\n",
    "    \"tfidf__max_features\": [20000, 30000, 50000],\n",
    "    \"clf__C\": [0.5, 1.0, 2.0, 4.0],\n",
    "}\n",
    "param_grid_svm = {\n",
    "    \"tfidf__max_features\": [20000, 30000, 50000],\n",
    "    \"clf__C\": [0.5, 1.0, 2.0, 4.0],\n",
    "}\n",
    "\n",
    "cv = StratifiedKFold(n_splits=5, shuffle=True, random_state=42)\n",
    "\n",
    "gs_log_en = GridSearchCV(pipe_log_en, param_grid_log, scoring=\"f1_macro\", cv=cv, n_jobs=-1, verbose=1)\n",
    "gs_log_en.fit(Xtr_en, ytr_en)\n",
    "\n",
    "gs_svm_en = GridSearchCV(pipe_svm_en, param_grid_svm, scoring=\"f1_macro\", cv=cv, n_jobs=-1, verbose=1)\n",
    "gs_svm_en.fit(Xtr_en, ytr_en)\n",
    "\n",
    "best_log_en = gs_log_en.best_estimator_\n",
    "best_svm_en = gs_svm_en.best_estimator_\n",
    "\n",
    "print(\"EN LogReg CV:\", gs_log_en.best_score_, gs_log_en.best_params_)\n",
    "print(\"EN SVM    CV:\", gs_svm_en.best_score_, gs_svm_en.best_params_)\n",
    "\n",
    "# avaliação em VAL e TEST (EN)\n",
    "def eval_set(model, X, y, name):\n",
    "    pred = model.predict(X)\n",
    "    print(f\"\\n{name} F1-macro:\", f1_score(y, pred, average=\"macro\"))\n",
    "    print(classification_report(y, pred))\n",
    "    return pred\n",
    "\n",
    "pred_val_log_en = eval_set(best_log_en, Xva_en, yva_en, \"VAL EN LogReg\")\n",
    "pred_val_svm_en = eval_set(best_svm_en, Xva_en, yva_en, \"VAL EN SVM\")\n",
    "\n",
    "pred_test_log_en = eval_set(best_log_en, Xte_en, yte_en, \"TEST EN LogReg\")\n",
    "pred_test_svm_en = eval_set(best_svm_en, Xte_en, yte_en, \"TEST EN SVM\")\n",
    "\n",
    "# salve artefatos EN para comparação\n",
    "ART = Path(\"../model/artifacts\"); ART.mkdir(parents=True, exist_ok=True)\n",
    "joblib.dump(best_log_en, ART/\"emotion_logreg_en_val_best.joblib\")\n",
    "joblib.dump(best_svm_en, ART/\"emotion_svm_en_val_best.joblib\")"
   ]
  },
  {
   "cell_type": "markdown",
   "id": "12818d40",
   "metadata": {},
   "source": [
    "## Comparar A (PT) vs B (EN)"
   ]
  },
  {
   "cell_type": "code",
   "execution_count": 19,
   "id": "a763ef32",
   "metadata": {},
   "outputs": [
    {
     "data": {
      "text/html": [
       "<div>\n",
       "<style scoped>\n",
       "    .dataframe tbody tr th:only-of-type {\n",
       "        vertical-align: middle;\n",
       "    }\n",
       "\n",
       "    .dataframe tbody tr th {\n",
       "        vertical-align: top;\n",
       "    }\n",
       "\n",
       "    .dataframe thead th {\n",
       "        text-align: right;\n",
       "    }\n",
       "</style>\n",
       "<table border=\"1\" class=\"dataframe\">\n",
       "  <thead>\n",
       "    <tr style=\"text-align: right;\">\n",
       "      <th></th>\n",
       "      <th>Modelo</th>\n",
       "      <th>VAL_PT</th>\n",
       "      <th>VAL_EN</th>\n",
       "      <th>TEST_PT</th>\n",
       "      <th>TEST_EN</th>\n",
       "    </tr>\n",
       "  </thead>\n",
       "  <tbody>\n",
       "    <tr>\n",
       "      <th>0</th>\n",
       "      <td>SVM</td>\n",
       "      <td>0.636053</td>\n",
       "      <td>0.885181</td>\n",
       "      <td>0.637508</td>\n",
       "      <td>0.84635</td>\n",
       "    </tr>\n",
       "  </tbody>\n",
       "</table>\n",
       "</div>"
      ],
      "text/plain": [
       "  Modelo    VAL_PT    VAL_EN   TEST_PT  TEST_EN\n",
       "0    SVM  0.636053  0.885181  0.637508  0.84635"
      ]
     },
     "execution_count": 19,
     "metadata": {},
     "output_type": "execute_result"
    }
   ],
   "source": [
    "import pandas as pd\n",
    "from sklearn.metrics import f1_score\n",
    "\n",
    "rows = []\n",
    "# preencha com F1-macro VAL/TEST dos seus modelos PT\n",
    "f1_pt_svm_val = 0.6360532177397678\n",
    "f1_pt_svm_test = 0.6375083268999185\n",
    "\n",
    "\n",
    "\n",
    "f1_en_svm_val   = f1_score(yva_en, pred_val_svm_en, average=\"macro\")\n",
    "f1_en_svm_test  = f1_score(yte_en, pred_test_svm_en, average=\"macro\")\n",
    "\n",
    "\n",
    "\n",
    "cmp = pd.DataFrame({\n",
    "    \"Modelo\": [\"SVM\"],\n",
    "    \"VAL_PT\":  [f1_pt_svm_val],\n",
    "    \"VAL_EN\":  [f1_en_svm_val],\n",
    "    \"TEST_PT\": [f1_pt_svm_test],\n",
    "    \"TEST_EN\": [f1_en_svm_test],\n",
    "})\n",
    "cmp"
   ]
  }
 ],
 "metadata": {
  "kernelspec": {
   "display_name": ".venv",
   "language": "python",
   "name": "python3"
  },
  "language_info": {
   "codemirror_mode": {
    "name": "ipython",
    "version": 3
   },
   "file_extension": ".py",
   "mimetype": "text/x-python",
   "name": "python",
   "nbconvert_exporter": "python",
   "pygments_lexer": "ipython3",
   "version": "3.13.2"
  }
 },
 "nbformat": 4,
 "nbformat_minor": 5
}
